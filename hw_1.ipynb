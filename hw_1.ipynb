{
 "cells": [
  {
   "cell_type": "code",
   "execution_count": 8,
   "id": "a3df1e70",
   "metadata": {},
   "outputs": [],
   "source": [
    "import pandas as pd\n",
    "\n",
    "file_path = r\"C:\\VSCode Projects\\lab1\\dataset.xls\"\n",
    "df_raw_data = pd.read_excel(file_path, header=None, engine='xlrd')"
   ]
  },
  {
   "cell_type": "markdown",
   "id": "512421f1",
   "metadata": {},
   "source": [
    "## Данные. Выполнить первичную обработку данных. Сделать первые выводы."
   ]
  },
  {
   "cell_type": "markdown",
   "id": "782c2e54",
   "metadata": {},
   "source": [
    "### 1. Рассмотрите данные и вычислите основные характеристики признаков: среднее, стандартное отклонение, медиана, квартили.  Постройте гистограммы признаков и блок диаграммы  признаков. Сделайте первые выводы о возможном распределении признаков."
   ]
  },
  {
   "cell_type": "markdown",
   "id": "f83fc014",
   "metadata": {},
   "source": [
    "#### Найдем среднее по каждому столбцу\n"
   ]
  },
  {
   "cell_type": "code",
   "execution_count": 9,
   "id": "2ebf865e",
   "metadata": {},
   "outputs": [
    {
     "name": "stdout",
     "output_type": "stream",
     "text": [
      "mean value for colunmn age = 39.298507462686565\n",
      "\n",
      "\n",
      "mean value for colunmn dependents = 2.0869565217391304\n",
      "\n",
      "\n",
      "mean value for colunmn income = 19861.764705882353\n",
      "\n",
      "\n",
      "mean value for colunmn length of stay = 10.101449275362318\n",
      "\n",
      "\n",
      "mean value for colunmn car assessment = 20852.941176470587\n",
      "\n",
      "\n",
      "mean value for colunmn credit size = 198492.53731343284\n",
      "\n",
      "\n"
     ]
    }
   ],
   "source": [
    "NAME_OF_FEATURES = ['age', 'dependents', 'income', 'length of stay', 'car assessment', 'credit size']\n",
    "\n",
    "df_raw_data.columns = NAME_OF_FEATURES\n",
    "\n",
    "for col in df_raw_data.columns:\n",
    "    print(f\"mean value for colunmn {col} = {df_raw_data[col].mean()}\")\n",
    "    print('\\n')"
   ]
  },
  {
   "cell_type": "markdown",
   "id": "295e0820",
   "metadata": {},
   "source": [
    "Этот цикл проходит по всем столбцам и выводит среднее значение (mean) каждого признака."
   ]
  },
  {
   "cell_type": "markdown",
   "id": "54ef8798",
   "metadata": {},
   "source": [
    "#### Найдем стандартное отклонение по каждому столбцу"
   ]
  },
  {
   "cell_type": "code",
   "execution_count": 10,
   "id": "68ca26bf",
   "metadata": {},
   "outputs": [
    {
     "name": "stdout",
     "output_type": "stream",
     "text": [
      "standart deviation for colunmn age = 8.700426540176295\n",
      "\n",
      "\n",
      "standart deviation for colunmn dependents = 0.9961562958335907\n",
      "\n",
      "\n",
      "standart deviation for colunmn income = 10169.342710701167\n",
      "\n",
      "\n",
      "standart deviation for colunmn length of stay = 4.932321156044054\n",
      "\n",
      "\n",
      "standart deviation for colunmn car assessment = 10692.813468731472\n",
      "\n",
      "\n",
      "standart deviation for colunmn credit size = 99837.3485003769\n",
      "\n",
      "\n"
     ]
    }
   ],
   "source": [
    "for col in df_raw_data.columns:\n",
    "    print(f\"standart deviation for colunmn {col} = {df_raw_data[col].std()}\")\n",
    "    print('\\n')"
   ]
  },
  {
   "cell_type": "markdown",
   "id": "8cec4d46",
   "metadata": {},
   "source": [
    "Здесь вычисляется стандартное отклонение каждого признака — мера разброса данных относительно среднего.\n",
    "\n",
    "Чем больше стандартное отклонение, тем сильнее варьируются значения признака."
   ]
  },
  {
   "cell_type": "markdown",
   "id": "e194e514",
   "metadata": {},
   "source": [
    "Стандартное отклонение: \n",
    "\n",
    "$$\\sigma = \\sqrt{\\frac{1}{n-1}\\sum_{i=1}^{n}(x_i - \\bar{x})^2}$$"
   ]
  },
  {
   "cell_type": "markdown",
   "id": "55690a77",
   "metadata": {},
   "source": [
    "#### Найдем медиану по каждому столбцу"
   ]
  },
  {
   "cell_type": "code",
   "execution_count": 11,
   "id": "0279c5c8",
   "metadata": {},
   "outputs": [
    {
     "name": "stdout",
     "output_type": "stream",
     "text": [
      "median for column age = 38.0\n",
      "\n",
      "\n",
      "median for column dependents = 2.0\n",
      "\n",
      "\n",
      "median for column income = 20250.0\n",
      "\n",
      "\n",
      "median for column length of stay = 9.0\n",
      "\n",
      "\n",
      "median for column car assessment = 20500.0\n",
      "\n",
      "\n",
      "median for column credit size = 200000.0\n",
      "\n",
      "\n"
     ]
    }
   ],
   "source": [
    "for col in df_raw_data.columns:\n",
    "    print(f\"median for column {col} = {df_raw_data[col].median()}\")\n",
    "    print('\\n')"
   ]
  },
  {
   "cell_type": "markdown",
   "id": "a2790500",
   "metadata": {},
   "source": [
    "Здесь находится медиана каждого признака — значение, которое делит выборку пополам.\n",
    "Медиана устойчива к выбросам, поэтому часто используется при анализе «грязных» данных."
   ]
  },
  {
   "cell_type": "markdown",
   "id": "e5e4f83c",
   "metadata": {},
   "source": [
    "$$\\text{Median}(X) = \\begin{cases} \n",
    "x_{\\frac{n+1}{2}} & \\text{ если } n \\text{ нечётное,} \\\\\n",
    "\\frac{x_{\\frac{n}{2}} + x_{\\frac{n}{2}+1}}{2} & \\text{ если } n \\text{ чётное}\n",
    "\\end{cases}$$"
   ]
  },
  {
   "cell_type": "markdown",
   "id": "82d8f47a",
   "metadata": {},
   "source": [
    "#### Находим квартили"
   ]
  },
  {
   "cell_type": "code",
   "execution_count": 12,
   "id": "5250f27d",
   "metadata": {},
   "outputs": [
    {
     "name": "stdout",
     "output_type": "stream",
     "text": [
      "Q1 for colunmn age = 34.0\n",
      "Q2 for colunmn age = 38.0\n",
      "Q3 for colunmn age = 46.0\n",
      "\n",
      "\n",
      "Q1 for colunmn dependents = 1.0\n",
      "Q2 for colunmn dependents = 2.0\n",
      "Q3 for colunmn dependents = 3.0\n",
      "\n",
      "\n",
      "Q1 for colunmn income = 11125.0\n",
      "Q2 for colunmn income = 20250.0\n",
      "Q3 for colunmn income = 27125.0\n",
      "\n",
      "\n",
      "Q1 for colunmn length of stay = 7.0\n",
      "Q2 for colunmn length of stay = 9.0\n",
      "Q3 for colunmn length of stay = 14.0\n",
      "\n",
      "\n",
      "Q1 for colunmn car assessment = 12000.0\n",
      "Q2 for colunmn car assessment = 20500.0\n",
      "Q3 for colunmn car assessment = 28000.0\n",
      "\n",
      "\n",
      "Q1 for colunmn credit size = 118000.0\n",
      "Q2 for colunmn credit size = 200000.0\n",
      "Q3 for colunmn credit size = 265500.0\n",
      "\n",
      "\n"
     ]
    }
   ],
   "source": [
    "for col in df_raw_data.columns:\n",
    "    print(f\"Q1 for colunmn {col} = {df_raw_data[col].quantile(0.25)}\")\n",
    "    print(f\"Q2 for colunmn {col} = {df_raw_data[col].quantile(0.5)}\")\n",
    "    print(f\"Q3 for colunmn {col} = {df_raw_data[col].quantile(0.75)}\")\n",
    "    print('\\n')"
   ]
  },
  {
   "cell_type": "markdown",
   "id": "af8ef9ef",
   "metadata": {},
   "source": [
    "Этот цикл вычисляет квартили для каждого признака:\n",
    "\n",
    "$Q_1$ (25\\%) — нижняя граница (значение, меньше которого 25\\% наблюдений),\n",
    "\n",
    "$Q_2$ (50\\%) — медиана,\n",
    "\n",
    "$Q_3$ (75\\%) — верхняя граница (значение, меньше которого 75\\% наблюдений).\n",
    "\n",
    "Квартили применяются для оценки распределения данных и поиска выбросов.\n",
    "\n",
    "\n",
    "\n"
   ]
  },
  {
   "cell_type": "markdown",
   "id": "0217d891",
   "metadata": {},
   "source": [
    "#### Построение гистограмм"
   ]
  },
  {
   "cell_type": "code",
   "execution_count": 13,
   "id": "f79eb68f",
   "metadata": {},
   "outputs": [
    {
     "data": {
      "image/png": "[encoded data removed]",
      "text/plain": [
       "<Figure size 1500x1000 with 6 Axes>"
      ]
     },
     "metadata": {},
     "output_type": "display_data"
    }
   ],
   "source": [
    "import matplotlib.pyplot as plt\n",
    "\n",
    "fig, axes = plt.subplots(2, 3, figsize=(15, 10))\n",
    "\n",
    "axes = axes.flatten()\n",
    "\n",
    "for i, col in enumerate(df_raw_data.columns):\n",
    "    axes[i].hist(df_raw_data[col], color='pink', edgecolor='grey', bins=10)\n",
    "    axes[i].set_title(col)\n",
    "    axes[i].set_xlabel('Values')\n",
    "    axes[i].set_ylabel('Frequence')\n",
    "    axes[i].grid(alpha=0.3)\n",
    "\n"
   ]
  },
  {
   "cell_type": "markdown",
   "id": "d6f3b68a",
   "metadata": {},
   "source": [
    "Построим гистограммы распределения значений каждого признака."
   ]
  },
  {
   "cell_type": "markdown",
   "id": "f20c8627",
   "metadata": {},
   "source": [
    "#### Построение boxplots"
   ]
  },
  {
   "cell_type": "code",
   "execution_count": 14,
   "id": "dd5bb4f3",
   "metadata": {},
   "outputs": [
    {
     "data": {
      "image/png": "[encoded data removed]",
      "text/plain": [
       "<Figure size 1500x1000 with 6 Axes>"
      ]
     },
     "metadata": {},
     "output_type": "display_data"
    }
   ],
   "source": [
    "import seaborn as sns\n",
    "\n",
    "fig, axes = plt.subplots(2, 3, figsize=(15, 10))\n",
    "\n",
    "axes = axes.flatten()\n",
    "\n",
    "for i, col in enumerate(df_raw_data.columns):\n",
    "    sns.boxplot(data=df_raw_data, y=col, ax=axes[i], color='pink', linecolor='grey')\n",
    "    axes[i].set_title(col)\n",
    "    axes[i].set_ylabel(\"Values\")\n",
    "    "
   ]
  },
  {
   "cell_type": "markdown",
   "id": "b3442511",
   "metadata": {},
   "source": [
    "Также построим блок-диаграммы признаков.\n",
    "\n",
    "На каждом подграфике показывается распределение признака:\n",
    "\n",
    "- \"ящик\" отражает диапазон между 1-м и 3-м квартилем (Q1–Q3),\n",
    "\n",
    "- линия внутри — медиана,\n",
    "\n",
    "- \"усы\" — диапазон допустимых значений."
   ]
  },
  {
   "cell_type": "markdown",
   "id": "be494e0b",
   "metadata": {},
   "source": [
    "Теперь сделаем первые выводы касаемо возможного распределения признаков: "
   ]
  },
  {
   "cell_type": "markdown",
   "id": "8c9ce287",
   "metadata": {},
   "source": [
    "**Возраст (лет):**\n",
    "\n",
    "- Диапазон значений: примерно от 20 до 60 лет.\n",
    "\n",
    "- Средние значения: сосредоточены около 38–42 лет.\n",
    "\n",
    "- Медиана близка к среднему, что указывает на относительно симметричное распределение.\n",
    "\n",
    "- На гистограмме распределение близко к нормальному с лёгким смещением вправо (в сторону более старших клиентов).\n",
    "\n",
    "Вывод о возможном распределении: признак распределён близко к нормальному, клиенты в основном зрелого возраста, без существенных экстремальных значений."
   ]
  },
  {
   "cell_type": "markdown",
   "id": "84738410",
   "metadata": {},
   "source": [
    "**Количество иждивенцев:**\n",
    "\n",
    "- Значения: дискретные (0–5).\n",
    "\n",
    "- Наиболее частое значение: 2 иждивенца.\n",
    "\n",
    "- Гистограмма показывает чёткий пик на значении 2 и меньшую частоту на 0, 1 и 3.\n",
    "\n",
    "- Boxplot не выявляет выраженных выбросов, разброс умеренный.\n",
    "\n",
    "- Поскольку признак является категориальным числовым, нормальность не применима, но распределение явно модальное с пиком в центре.\n",
    "\n",
    "Вывод: признак имеет модальное распределение с максимумом в области 2 иждивенцев. Большинство клиентов имеют 2-х иждивенцев."
   ]
  },
  {
   "cell_type": "markdown",
   "id": "f8668877",
   "metadata": {},
   "source": [
    "**Доход (руб./мес.):**\n",
    "\n",
    "- Диапазон: примерно от 5 000 до 40 000 руб.\n",
    "\n",
    "- Среднее превышает медиану, что говорит о правосторонней (положительной) асимметрии.\n",
    "\n",
    "- Гистограмма: значительная часть клиентов с доходами до 25–30 тыс. руб., несколько высокодоходных клиентов увеличивают среднее.\n",
    "\n",
    "Вывод: распределение дохода умеренно правостороннее (с наклоном вправо), большинство клиентов имеет доход от 5 до 25 тыс. руб./мес."
   ]
  },
  {
   "cell_type": "markdown",
   "id": "2f204a15",
   "metadata": {},
   "source": [
    "**Срок проживания в регионе (лет):**\n",
    "\n",
    "- Диапазон: 0–22 года.\n",
    "\n",
    "- Медиана: около 9 лет, среднее чуть выше, что говорит о небольшой правосторонней асимметрии.\n",
    "\n",
    "- На гистограмме большинство клиентов проживают в регионе от 5 до 15 лет.\n",
    "\n",
    "- Имеются единичные наблюдения с нулевым стажем — вероятно, новые клиенты банка.\n",
    "\n",
    "Вывод: распределение близко к нормальному, большинство клиентов — жители региона со стажем 5–15 лет, что может говорить о стабильности клиентской базы."
   ]
  },
  {
   "cell_type": "markdown",
   "id": "3eedc147",
   "metadata": {},
   "source": [
    "**Оценка автомобиля заемщика (USD):**\n",
    "\n",
    "- Диапазон: примерно от 5 000 до 50 000 USD.\n",
    "\n",
    "- Среднее значение несколько выше медианы — правостороннее распределение, наличие отдельных клиентов с высоко оценёнными автомобилями.\n",
    "\n",
    "- Boxplot показывает заметный разброс, но выбросы не критичны.\n",
    "\n",
    "- Гистограмма имеет широкий пик в диапазоне 15 000–30 000 USD.\n",
    "\n",
    "Вывод: Признак распределён с наклоном вправо, что естественно: большинство автомобилей средней стоимости, отдельные — премиум-класса."
   ]
  },
  {
   "cell_type": "markdown",
   "id": "50edd584",
   "metadata": {},
   "source": [
    "**Размер кредита (тыс. руб.):**\n",
    "\n",
    "- Диапазон: примерно от 50 000 до 400 000 руб.\n",
    "\n",
    "- Среднее также превышает медиану, что указывает на правостороннюю асимметрию.\n",
    "\n",
    "- Boxplot показывает, что значения сгруппированы вокруг 200–250 тыс. руб.\n",
    "\n",
    "- На гистограмме видно, что большинство кредитов не превышает 300 тыс. руб.\n",
    "\n",
    "Вывод: Распределение правостороннее; типичный размер кредита 200–250 тыс. руб."
   ]
  },
  {
   "cell_type": "markdown",
   "id": "5a359c24",
   "metadata": {},
   "source": [
    "**Итак, общие выводы по всем признакам:**\n",
    "\n",
    "1. Все признаки имеют естественные границы и реалистичные значения.\n",
    "\n",
    "2. Для большинства количественных признаков наблюдается умеренная правосторонняя асимметрия, что типично для экономических данных.\n",
    "\n",
    "3. Медианы близки к средним у «возраста» и «срока проживания» — эти признаки близки к нормальному распределению.\n",
    "\n",
    "4. Выбросы минимальны, исключений, требующих удаления, немного.\n",
    "\n",
    "5. Полученные графики подтверждают, что данные можно использовать для методов, чувствительных к масштабу (например, PCA), после нормировки и центрирования."
   ]
  },
  {
   "cell_type": "markdown",
   "id": "b0fe773d",
   "metadata": {},
   "source": [
    "### 2. В данных есть пропуски. Подберите из литературы метод восстановления пропущенных данных и заполните пропуски по этому методу. \n"
   ]
  },
  {
   "cell_type": "code",
   "execution_count": 15,
   "id": "b0e350f8",
   "metadata": {},
   "outputs": [
    {
     "name": "stdout",
     "output_type": "stream",
     "text": [
      "В процентах\n",
      "age               7.462687\n",
      "dependents        4.347826\n",
      "income            5.882353\n",
      "length of stay    4.347826\n",
      "car assessment    5.882353\n",
      "credit size       7.462687\n",
      "dtype: float64 \n"
     ]
    }
   ],
   "source": [
    "print(f'В процентах\\n{(df_raw_data.isnull().sum() / df_raw_data.count()) * 100} ')"
   ]
  },
  {
   "cell_type": "markdown",
   "id": "0134cb48",
   "metadata": {},
   "source": [
    "Смотрим где и сколько данных отсутствует. По каждому столбцу возвращаем процент пропусков."
   ]
  },
  {
   "cell_type": "markdown",
   "id": "6336f74c",
   "metadata": {},
   "source": [
    "#### KNN"
   ]
  },
  {
   "cell_type": "markdown",
   "id": "8cde2a48",
   "metadata": {},
   "source": [
    "Мы решили заполнить пропущенные данные методом ближайших соседей (KNN), который основан на предположении, что похожие объекты имеют схожие значения признаков.\n",
    "\n",
    "Алгоритм работы:\n",
    "\n",
    "1. Для каждой записи с пропуском ищется k ближайших объектов (по евклидову расстоянию или другому методу).\n",
    "\n",
    "2. Рассматриваются только те соседи, у которых в этом признаке нет пропусков.\n",
    "\n",
    "3. Пропущенное значение заполняется:\n",
    "\n",
    "- либо простым средним по соседям (weights='uniform'),\n",
    "\n",
    "- либо взвешенным средним, где ближние соседи имеют больший вес (weights='distance')."
   ]
  },
  {
   "cell_type": "markdown",
   "id": "fe6ba0b7",
   "metadata": {},
   "source": [
    "Восстановление пропущенного значения для объекта $i$:\n",
    "\n",
    "$$\\hat{x}_i = \\frac{\\sum_{j=1}^{k} w_j x_j}{\\sum_{j=1}^{k} w_j}, \\quad w_j = \\frac{1}{d_j + \\varepsilon}$$\n",
    "\n",
    "где $x_j$ — значение признака у $j$-го соседа, $d_j$ — расстояние до $j$-го соседа, $w_j$ — вес соседа, $\\varepsilon$ — малая константа для избежания деления на ноль, $k$ — количество ближайших соседей."
   ]
  },
  {
   "cell_type": "markdown",
   "id": "677e4f5f",
   "metadata": {},
   "source": [
    "Преимущества метода KNN:\n",
    "\n",
    "- Учитывает многомерную структуру данных (в отличие от простых средних/медиан).\n",
    "- Может восстанавливать значения на основе похожих клиентов.\n",
    "- Гибко настраивается (число соседей, тип весов, расстояние)."
   ]
  },
  {
   "cell_type": "code",
   "execution_count": 16,
   "id": "3c30bb6a",
   "metadata": {},
   "outputs": [],
   "source": [
    "from sklearn.impute import KNNImputer\n",
    "\n",
    "imputer = KNNImputer(n_neighbors=5, weights='distance')\n",
    "\n",
    "df_data_wo_nans = imputer.fit_transform(df_raw_data)"
   ]
  },
  {
   "cell_type": "markdown",
   "id": "6648cf10",
   "metadata": {},
   "source": [
    "Создаем объект класса KNNImputer — модель для восстановления пропущенных значений.\n",
    "\n",
    "Где:\n",
    "\n",
    "- n_neighbors=5 — количество ближайших соседей, по которым будет вычисляться замена.\n",
    "\n",
    "- weights='distance' — более близкие соседи имеют больший вес при расчёте значения (т.е. чем ближе объект, тем больше он влияет на результат)."
   ]
  },
  {
   "cell_type": "markdown",
   "id": "6e1d83f7",
   "metadata": {},
   "source": [
    "Далее fit_transform() — обучает импьютер на данных и сразу применяет заполнение.\n",
    "\n",
    "Для каждой записи, где есть пропуски, KNNImputer ищет 5 ближайших соседей по всем остальным признакам. Соседи выбираются по евклидовому расстоянию между объектами (строками таблицы).\n",
    "\n",
    "Пропущенное значение заменяется на взвешенное среднее значений у соседей, найденных по этому признаку.\n",
    "\n",
    "Результатом является массив NumPy, в котором больше нет пропусков."
   ]
  },
  {
   "cell_type": "code",
   "execution_count": 17,
   "id": "e195999b",
   "metadata": {},
   "outputs": [],
   "source": [
    "df_data_wo_nans = df_data_wo_nans.round(0)\n",
    "df_data_wo_nans = pd.DataFrame(df_data_wo_nans)"
   ]
  },
  {
   "cell_type": "markdown",
   "id": "fe679c2c",
   "metadata": {},
   "source": [
    "### 3. В данных возможны выбросы. Подберите из литературы метод определения выбросов и удалите объекты, идентифицированные как выбросы по этому методу. "
   ]
  },
  {
   "cell_type": "code",
   "execution_count": 18,
   "id": "b64fa7df",
   "metadata": {},
   "outputs": [
    {
     "name": "stdout",
     "output_type": "stream",
     "text": [
      "for 0 low = 15.625, upp = 64.625\n",
      "for 1 low = -2.0, upp = 6.0\n",
      "for 2 low = -11825.0, upp = 49375.0\n",
      "for 3 low = -3.5, upp = 24.5\n",
      "for 4 low = -12000.0, upp = 52000.0\n",
      "for 5 low = -94375.0, upp = 480625.0\n",
      "rows original: 72 rows after outlier removal: 72\n"
     ]
    }
   ],
   "source": [
    "import numpy as np\n",
    "\n",
    "k = 1.5\n",
    "mask = np.ones(len(df_data_wo_nans), dtype=bool)\n",
    "\n",
    "for col in df_data_wo_nans.columns:\n",
    "    q1 = df_data_wo_nans[col].quantile(0.25)\n",
    "    q3 = df_data_wo_nans[col].quantile(0.75)\n",
    "    iqr = q3 - q1\n",
    "    lower_bound = q1 - k * iqr \n",
    "    upper_bound = q3 + k * iqr \n",
    "    mask &= df_data_wo_nans[col].between(lower_bound, upper_bound)\n",
    "\n",
    "    print(f'for {col} low = {lower_bound}, upp = {upper_bound}')\n",
    "\n",
    "\n",
    "df_data_wo_nans_and_outliers = df_data_wo_nans[mask].copy()\n",
    "print(\"rows original:\", df_data_wo_nans.shape[0], \"rows after outlier removal:\", df_data_wo_nans_and_outliers.shape[0])"
   ]
  },
  {
   "cell_type": "markdown",
   "id": "02879e86",
   "metadata": {},
   "source": [
    "Для определения выбросов мы выбрали метод межквартильного размаха (IQR method):\n",
    "\n",
    "Суть метода:\n",
    "Метод основан на статистическом диапазоне центральных 50% данных — между первым и третьим квартилями (Q1 и Q3).\n",
    "Значения, которые сильно выходят за этот диапазон, считаются аномальными (выбросами).\n",
    "\n"
   ]
  },
  {
   "cell_type": "markdown",
   "id": "4db7efc1",
   "metadata": {},
   "source": [
    "**Метод межквартильного размаха (IQR):**\n",
    "\n",
    "Формулы для определения границ выбросов:\n",
    "\n",
    "$$\n",
    "\\begin{aligned}\n",
    "Q_1 &= P_{25} \\\\\n",
    "Q_3 &= P_{75} \\\\\n",
    "IQR &= Q_3 - Q_1 \\\\\n",
    "\\text{Нижняя граница} &= Q_1 - 1.5 \\times IQR \\\\\n",
    "\\text{Верхняя граница} &= Q_3 + 1.5 \\times IQR\n",
    "\\end{aligned}\n",
    "$$\n",
    "\n",
    "где:\n",
    "- $Q_1$ - первый квартиль (25-й процентиль)\n",
    "- $Q_3$ - третий квартиль (75-й процентиль)\n",
    "- $IQR$ - межквартильный размах"
   ]
  },
  {
   "cell_type": "markdown",
   "id": "f75aed8f",
   "metadata": {},
   "source": [
    "k — это коэффициент чувствительности метода. Он определяет, насколько жестко отсекаются выбросы. Обычно он выбирается равным 1.5.\n",
    "\n",
    "mask = np.ones(..., dtype=bool) — мы создаем \"логическую маску\" (массив True), длиной как количество строк в таблице.\n",
    "Позже маска будет обновляться, оставляя только “хорошие” (невыбросные) строки."
   ]
  },
  {
   "cell_type": "markdown",
   "id": "92aafcd2",
   "metadata": {},
   "source": [
    "Метод .between(lower_bound, upper_bound) возвращает логический вектор True/False — true, если значение в пределах диапазона, и false, если это выброс."
   ]
  },
  {
   "cell_type": "markdown",
   "id": "a5cda9cc",
   "metadata": {},
   "source": [
    "Преимущества метода IQR\n",
    "\n",
    "- прост и не требует параметров распределения (в отличие от Z-score метода).\n",
    "- работает на любых типах данных (не только при нормальном распределении)."
   ]
  },
  {
   "cell_type": "code",
   "execution_count": 19,
   "id": "210a80bf",
   "metadata": {},
   "outputs": [
    {
     "name": "stdout",
     "output_type": "stream",
     "text": [
      "Rows in old dataframe = 72\n",
      "Rows in new dataframe = 72\n"
     ]
    }
   ],
   "source": [
    "print(f'Rows in old dataframe = {df_data_wo_nans.shape[0]}')\n",
    "print(f'Rows in new dataframe = {df_data_wo_nans_and_outliers.shape[0]}')"
   ]
  },
  {
   "cell_type": "markdown",
   "id": "5dbfeefb",
   "metadata": {},
   "source": [
    "Вывод: в наших данных не было существенных выбросов."
   ]
  },
  {
   "cell_type": "markdown",
   "id": "6b8eb1da",
   "metadata": {},
   "source": [
    "## Снижение размерности. Метод PCA (Principal Component Analysis, метод главных компонент). "
   ]
  },
  {
   "cell_type": "markdown",
   "id": "bbffcc1a",
   "metadata": {},
   "source": [
    "### 4. Выполнить центрирование данных и такую нормировку, что евклидова норма каждого признака равна 1 (полученная матрица обозначается через Z). "
   ]
  },
  {
   "cell_type": "code",
   "execution_count": 20,
   "id": "ff8b6451",
   "metadata": {},
   "outputs": [],
   "source": [
    "import numpy as np\n",
    "\n",
    "x = np.array(df_data_wo_nans_and_outliers)"
   ]
  },
  {
   "cell_type": "code",
   "execution_count": 21,
   "id": "33e94252",
   "metadata": {},
   "outputs": [],
   "source": [
    "# centered data\n",
    "\n",
    "for col in range(x.shape[1]):\n",
    "    npcol = x[:, col]\n",
    "    npcol -= npcol.mean()\n"
   ]
  },
  {
   "cell_type": "markdown",
   "id": "487560aa",
   "metadata": {},
   "source": [
    "**Центрирование данных**\n",
    "\n",
    "Цель — преобразовать данные так, чтобы среднее значение каждого признака стало равным нулю.\n",
    "\n",
    "$$\n",
    "\\mathbf{x}_j' = \\mathbf{x}_j - \\bar{x}_j\n",
    "$$\n",
    "\n",
    "где $\\bar{x}_j = \\frac{1}{n}\\sum_{i=1}^{n} x_{ij}$ — выборочное среднее признака $j$."
   ]
  },
  {
   "cell_type": "markdown",
   "id": "e6578a1e",
   "metadata": {},
   "source": [
    "Что делает этот цикл:\n",
    "\n",
    "x.shape[1] — количество столбцов (признаков). Для каждого столбца вычисляется среднее значение и из всех элементов столбца вычитается среднее. Теперь каждый признак теперь имеет среднее значение, равное 0."
   ]
  },
  {
   "cell_type": "code",
   "execution_count": 22,
   "id": "b7e15dfb",
   "metadata": {},
   "outputs": [
    {
     "name": "stdout",
     "output_type": "stream",
     "text": [
      "[0 0 0 0 0 0]\n"
     ]
    }
   ],
   "source": [
    "# check centered \n",
    "\n",
    "print(np.mean(x, axis=0, dtype=int))"
   ]
  },
  {
   "cell_type": "markdown",
   "id": "6e9789f0",
   "metadata": {},
   "source": [
    "Проверяем: печатаем средние значения по каждому столбцу.\n",
    "Если всё сделано правильно, все элементы должны быть около нуля (с возможной небольшой погрешностью округления)."
   ]
  },
  {
   "cell_type": "code",
   "execution_count": 23,
   "id": "e49c8440",
   "metadata": {},
   "outputs": [
    {
     "name": "stdout",
     "output_type": "stream",
     "text": [
      "71.67199592588447\n",
      "8.336666000266533\n",
      "84206.17364804343\n",
      "40.805773012052\n",
      "88655.2264298019\n",
      "819871.7939028639\n"
     ]
    }
   ],
   "source": [
    "# norm data\n",
    "\n",
    "from numpy.linalg import linalg\n",
    "\n",
    "for col in range(x.shape[1]):\n",
    "    print(np.linalg.norm(x[:, col]))\n",
    "    x[:, col]  = x[:, col] / np.linalg.norm(x[:, col])"
   ]
  },
  {
   "cell_type": "markdown",
   "id": "027e9e19",
   "metadata": {},
   "source": [
    "Далее выполняем нормировку каждого признака так, чтобы его евклидова норма равнялась 1. Каждый столбец делится на свою длину (норму). Перед делением программа также выводит норму каждого признака — для проверки. \n",
    "\n",
    "Формула нормы: \n",
    "\n",
    "$$\\|\\mathbf{x}_j\\|_2 = \\sqrt{\\sum_{i=1}^{n} x_{ij}^2} = 1$$"
   ]
  },
  {
   "cell_type": "markdown",
   "id": "9c8948e7",
   "metadata": {},
   "source": [
    "Нормализация данных\n",
    "\n",
    "После центрирования проводится масштабирование так, чтобы длина (норма) каждого признака равнялась 1:\n",
    "\n",
    "$$\n",
    "z_{ij} = \\frac{x_{ij}'}{\\|\\mathbf{x}_j\\|_2}, \\quad \\text{где } \\|\\mathbf{x}_j\\|_2 = \\sqrt{\\sum_{i=1}^{n} x_{ij}^2} = 1\n",
    "$$"
   ]
  },
  {
   "cell_type": "code",
   "execution_count": 24,
   "id": "862661b1",
   "metadata": {},
   "outputs": [
    {
     "name": "stdout",
     "output_type": "stream",
     "text": [
      "[1. 1. 1. 1. 1. 1.]\n"
     ]
    }
   ],
   "source": [
    "# check normilized\n",
    "\n",
    "print(np.linalg.norm(x, axis=0))"
   ]
  },
  {
   "cell_type": "markdown",
   "id": "8fc1116c",
   "metadata": {},
   "source": [
    "Результатом должен быть вектор единиц. Всё верно."
   ]
  },
  {
   "cell_type": "code",
   "execution_count": 25,
   "id": "76943c7a",
   "metadata": {},
   "outputs": [],
   "source": [
    "new_matr = pd.DataFrame(x)"
   ]
  },
  {
   "cell_type": "markdown",
   "id": "5a6b99a8",
   "metadata": {},
   "source": [
    "После этих шагов матрица данных:\n",
    "\n",
    "- центрирована — каждый признак имеет нулевое среднее;\n",
    "\n",
    "- нормализована — каждый признак имеет единичную длину.\n",
    "\n",
    "Такую матрицу обычно обозначают как $Z$, и именно она используется для:\n",
    "\n",
    "- SVD-разложения (п.5 задания),\n",
    "\n",
    "- PCA (метода главных компонент),\n",
    "\n",
    "- MDS и других методов снижения размерности."
   ]
  },
  {
   "cell_type": "markdown",
   "id": "a7dc77e1",
   "metadata": {},
   "source": [
    "### 5. Найти SVD разложение матрицы Z (матрицы U, S, V). "
   ]
  },
  {
   "cell_type": "code",
   "execution_count": 26,
   "id": "88b1b79e",
   "metadata": {},
   "outputs": [],
   "source": [
    "u, s, vt = np.linalg.svd(x)"
   ]
  },
  {
   "cell_type": "markdown",
   "id": "f58e591d",
   "metadata": {},
   "source": [
    "Выполним сингулярное (SVD) разложение:\n",
    "\n",
    "Используем функцию np.linalg.svd(), которая выполняет сингулярное разложение матрицы x.\n",
    "\n",
    "На вход подаётся матрица $Z$ (центрированная и нормализованная версия исходных данных).\n",
    "\n",
    "Функция возвращает три матрицы:\n",
    "\n",
    "$U$, $S$, $V^T$ такие, что:\n",
    "\n",
    "$\n",
    "X = U \\cdot S \\cdot V^T\n",
    "$"
   ]
  },
  {
   "cell_type": "code",
   "execution_count": 27,
   "id": "9dfc0131",
   "metadata": {},
   "outputs": [],
   "source": [
    "pd_u = pd.DataFrame(u)\n",
    "pd_s = pd.DataFrame(s)\n",
    "pd_vt = pd.DataFrame(vt)"
   ]
  },
  {
   "cell_type": "markdown",
   "id": "a9fbbd7c",
   "metadata": {},
   "source": [
    "$$\n",
    "\\begin{array}{ccl}\n",
    "\\hline\n",
    "\\text{Обозначение} & \\text{Размерность} & \\text{Смысл} \\\\\n",
    "\\hline\n",
    "U & n \\times n & \\text{Матрица левых сингулярных векторов (описывает клиентов)} \\\\\n",
    "S & n \\times m & \\text{Диагональная матрица (вектор) сингулярных чисел} \\\\\n",
    "V^T & m \\times m & \\text{Матрица правых сингулярных векторов (описывает признаки)} \\\\\n",
    "\\hline\n",
    "\\end{array}\n",
    "$$"
   ]
  },
  {
   "cell_type": "markdown",
   "id": "9c29dee3",
   "metadata": {},
   "source": [
    "### 6. Исследуйте, сколько скрытых факторов (главные факторы) достаточно для хорошей аппроксимации матрицы данных Z. "
   ]
  },
  {
   "cell_type": "code",
   "execution_count": 28,
   "id": "8ddb1504",
   "metadata": {},
   "outputs": [
    {
     "name": "stdout",
     "output_type": "stream",
     "text": [
      "6.0\n",
      "% of data = 0.48947\n",
      "% of data = 0.4181\n",
      "% of data = 0.06486\n",
      "% of data = 0.01465\n",
      "% of data = 0.00843\n",
      "% of data = 0.00449\n",
      "explained data = 1.0\n"
     ]
    }
   ],
   "source": [
    "sum_of_factors = np.sum(s**2)\n",
    "print(round(sum_of_factors, 2))\n",
    "full_explained_percent = 0\n",
    "\n",
    "for item in s:\n",
    "    full_explained_percent += (item**2 / sum_of_factors)\n",
    "    print(f'% of data = {round(item**2 / sum_of_factors, 5)}')\n",
    "\n",
    "print(f'explained data = {round(full_explained_percent, 2)}')"
   ]
  },
  {
   "cell_type": "markdown",
   "id": "862f9075",
   "metadata": {},
   "source": [
    "Итак: \n",
    "\n",
    "$s$ — это вектор сингулярных чисел, полученных из SVD.\n",
    "\n",
    "$s^2$ — квадрат сингулярных чисел.\n",
    "\n",
    "Поскольку в PCA собственные значения ковариационной матрицы пропорциональны $\\sigma_i^2$, они показывают вклад каждой компоненты в дисперсию данных.\n",
    "\n",
    "$\\text{np.sum}(s^2)$ — сумма квадратов всех сингулярных чисел, т.е. суммарная дисперсия данных.\n",
    "\n",
    "Так, sum_of_factors — это общее количество информации (вариации), которое содержится в данных."
   ]
  },
  {
   "cell_type": "markdown",
   "id": "50091701",
   "metadata": {},
   "source": [
    "Что делает цикл:\n",
    "\n",
    "Для каждого $i$ от $1$ до $k$:\n",
    "\n",
    "1. Вычисляется относительная дисперсия:\n",
    "   $$\n",
    "   p_i = \\frac{\\sigma_i^2}{\\sum_{j=1}^k \\sigma_j^2}\n",
    "   $$\n",
    "\n",
    "2. Величина $p_i$ показывает процент дисперсии, объясняемый $i$-й компонентой\n",
    "\n",
    "3. Переменная full_explained_percent аккумулирует суммы $p_i$ для проверки полноты: $\\sum_{i=1}^k p_i = 1$"
   ]
  },
  {
   "cell_type": "markdown",
   "id": "d6ff5b1c",
   "metadata": {},
   "source": [
    "#### Признаки 1, 2 объясняют 90.7% данных\n"
   ]
  },
  {
   "cell_type": "markdown",
   "id": "3b3e628d",
   "metadata": {},
   "source": [
    "### 7. Замените значения исходных признаков линейными комбинациями главных факторов (матрица Zk, k – число главных факторов). Вычислите норму разности  ‖Z-Z_k ‖ (погрешность аппроксимации) в операторной матричной  норме и норме Фробениуса. "
   ]
  },
  {
   "cell_type": "code",
   "execution_count": 29,
   "id": "5a207644",
   "metadata": {},
   "outputs": [],
   "source": [
    "approx_col = list()\n",
    "\n",
    "for i in range(6):\n",
    "    tmp = np.array(s[0] * vt[i, 0] * u[:, 0] + s[1] * vt[i, 1]* u[:, 1]) \n",
    "    approx_col.append(tmp)\n",
    "\n",
    "approx_matr = np.array(approx_col).T"
   ]
  },
  {
   "cell_type": "markdown",
   "id": "7e1e144f",
   "metadata": {},
   "source": [
    "Здесь наш цикл обрабатывает все 6 признаков исходной матрицы с использованием первых двух главных компонент ($k = 2$).\n",
    "\n",
    "Используемые элементы SVD-разложения:\n",
    "- $s[0], s[1]$ — сингулярные числа\n",
    "- $u[:,0], u[:,1]$ — левые сингулярные векторы\n",
    "- $vt[i,0], vt[i,1]$ — правые сингулярные векторы\n",
    "\n",
    "**Формула восстановления:**\n",
    "$$\n",
    "\\tilde{x}_i = \\sigma_1 v_{i1} \\mathbf{u}_1 + \\sigma_2 v_{i2} \\mathbf{u}_2\n",
    "$$\n",
    "\n",
    "**Компоненты:**\n",
    "- $\\mathbf{u}_1, \\mathbf{u}_2 \\in U$ — базисные векторы объектов\n",
    "- $v_{i1}, v_{i2} \\in V^T$ — весовые коэффициенты признаков  \n",
    "- $\\sigma_1, \\sigma_2$ — сингулярные числа (масштаб компонент)\n",
    "\n",
    "Каждый признак аппроксимируется линейной комбинацией двух главных компонент:\n",
    "\n",
    "$$\n",
    "X_2 = U_2 \\Sigma_2 V_2^T\n",
    "$$\n",
    "\n",
    "где $U_2 \\in \\mathbb{R}^{n \\times 2}$, $\\Sigma_2 \\in \\mathbb{R}^{2 \\times 2}$, $V_2^T \\in \\mathbb{R}^{2 \\times m}$.\n",
    "\n",
    "В результате получаем аппроксимированную матрицу $Z_k$ размерности $n \\times 6$:\n",
    "$$\n",
    "Z_k \\in \\mathbb{R}^{n \\times 6}\n",
    "$$"
   ]
  },
  {
   "cell_type": "markdown",
   "id": "c679a1a9",
   "metadata": {},
   "source": [
    "#### Далее ищем операторную норму и норму Фробелиуса."
   ]
  },
  {
   "cell_type": "markdown",
   "id": "2ec3b1fb",
   "metadata": {},
   "source": [
    "#### Теорема Эккарта-Юнга\n",
    "\n",
    "$$ min_{rank = k}||Z - Z_k||_2 = \\sigma_{k+1} $$\n",
    "\n",
    "$$ min_{rank = k}||Z - Z_k||^2_F = \\sigma_{k+1}^2 + ... + \\sigma_{p}^2 $$"
   ]
  },
  {
   "cell_type": "code",
   "execution_count": 30,
   "id": "fb34fc6e",
   "metadata": {},
   "outputs": [
    {
     "name": "stdout",
     "output_type": "stream",
     "text": [
      "p = 6\n",
      "k = 2\n"
     ]
    }
   ],
   "source": [
    "K_CONST = 2\n",
    "p = min(x.shape)\n",
    "print(f'p = {p}')\n",
    "print(f'k = {K_CONST}')"
   ]
  },
  {
   "cell_type": "markdown",
   "id": "f95b7332",
   "metadata": {},
   "source": [
    "Здесь:\n",
    "- $p = \\min(n, m)$ — ранг матрицы (минимальная размерность)\n",
    "- $k = 2$ — количество используемых главных компонент\n",
    "\n",
    "Спектральная норма разности матриц:\n",
    "$$\n",
    "\\|X - X_k\\|_2 = \\sigma_{k+1}\n",
    "$$\n",
    "где $\\sigma_{k+1}$ — следующее сингулярное число.\n",
    "\n",
    "Данная норма показывает максимальное отклонение между исходной и аппроксимированной матрицей."
   ]
  },
  {
   "cell_type": "code",
   "execution_count": 31,
   "id": "9d8c78f4",
   "metadata": {},
   "outputs": [
    {
     "name": "stdout",
     "output_type": "stream",
     "text": [
      "Operation norm = 0.6238221313153083\n"
     ]
    }
   ],
   "source": [
    "norm_oper = s[K_CONST]\n",
    "print(f'Operation norm = {norm_oper}')"
   ]
  },
  {
   "cell_type": "code",
   "execution_count": 32,
   "id": "b8816e64",
   "metadata": {},
   "outputs": [
    {
     "name": "stdout",
     "output_type": "stream",
     "text": [
      "Frob. norm = 0.7446877305044353\n",
      "relative error approx = 0.1241146217507393\n"
     ]
    }
   ],
   "source": [
    "import math\n",
    "\n",
    "frob_norm = 0\n",
    "\n",
    "for i in range(K_CONST,6):\n",
    "    frob_norm += s[i]**2\n",
    "\n",
    "print(f'Frob. norm = {math.sqrt(frob_norm)}')\n",
    "\n",
    "print(f'relative error approx = {math.sqrt(frob_norm) / np.sum(s**2)}')"
   ]
  },
  {
   "cell_type": "markdown",
   "id": "63d3c52d",
   "metadata": {},
   "source": [
    "Вычисление нормы Фробениуса:\n",
    "\n",
    "Суммируются квадраты сингулярных чисел отброшенных компонент (с $k+1$ до $p$):\n",
    "\n",
    "$$\n",
    "\\|X - X_k\\|_F = \\sqrt{\\sum_{i=k+1}^{p} \\sigma_i^2}\n",
    "$$\n",
    "\n",
    "где $p = \\min(n, m)$ — полный ранг матрицы."
   ]
  },
  {
   "cell_type": "markdown",
   "id": "d2127a4e",
   "metadata": {},
   "source": [
    "Далее мы выводим относительную ошибку аппроксимации:\n",
    "\n",
    "$$\n",
    "\\text{Relative error} = \\frac{\\|X - X_k\\|_F}{\\|X\\|_F}\n",
    "$$\n",
    "\n",
    "Она показывает, какая доля информации потеряна при переходе от исходной матрицы к её приближению с $k$ главными факторами.\n",
    "\n",
    "Чем меньше это значение, тем лучше приближение и тем достаточнее выбранное $k$."
   ]
  },
  {
   "cell_type": "markdown",
   "id": "0b8019c6",
   "metadata": {},
   "source": [
    "### 8. Используя выделенные главные факторы, найти представления клиентов векторами меньшей размерности (размерности k) и построить карту клиентов. Сделать выводы о клиентах банка. "
   ]
  },
  {
   "cell_type": "code",
   "execution_count": 33,
   "id": "62e7e626",
   "metadata": {},
   "outputs": [],
   "source": [
    "new_coor_matrix_clients = u[:2].T @ (np.diag(s[:2]) @ vt[:2])"
   ]
  },
  {
   "cell_type": "markdown",
   "id": "c8d3e807",
   "metadata": {},
   "source": [
    "**Процесс проекции данных:**\n",
    "\n",
    "На основе SVD-разложения:\n",
    "$$\n",
    "X = U \\Sigma V^T\n",
    "$$\n",
    "\n",
    "Используются усечённые матрицы ($k = 2$):\n",
    "\n",
    "- $U_k$ — первые $k$ столбцов $U$ (главные оси объектов)\n",
    "- $\\Sigma_k$ — первые $k$ сингулярных чисел\n",
    "- $V_k^T$ — первые $k$ строк $V^T$ (главные направления признаков)\n",
    "\n",
    "Проекция:\n",
    "$$\n",
    "U_k^T \\cdot (\\Sigma_k \\cdot V_k^T)\n",
    "$$\n",
    "\n",
    "Результат — матрица признаков в пространстве главных компонент, позволяющая анализировать вклад исходных признаков."
   ]
  },
  {
   "cell_type": "code",
   "execution_count": 34,
   "id": "e53c99df",
   "metadata": {},
   "outputs": [],
   "source": [
    "client_map = u[:2].T @ np.diag(s[:2]) "
   ]
  },
  {
   "cell_type": "markdown",
   "id": "8bdfce77",
   "metadata": {},
   "source": [
    "**Формирование карты клиентов:**\n",
    "\n",
    "Ключевая операция проекции данных:\n",
    "\n",
    "$$\n",
    "Z_k = U_k \\Sigma_k\n",
    "$$\n",
    "\n",
    "Компоненты:\n",
    "- $Z_k \\in \\mathbb{R}^{n \\times k}$ — координаты клиентов в пространстве главных компонент\n",
    "- $U_k \\in \\mathbb{R}^{n \\times k}$ — фактор клиентов (левые сингулярные векторы)\n",
    "- $\\Sigma_k \\in \\mathbb{R}^{k \\times k}$ — веса компонент (сингулярные числа)\n",
    "\n",
    "Результат: client_map — матрица $n \\times 2$, где:\n",
    "- Строки: $\\text{клиент}_i \\rightarrow (z_{i1}, z_{i2})$\n",
    "- Столбцы: координаты по осям $\\mathbf{u}_1$ и $\\mathbf{u}_2$"
   ]
  },
  {
   "cell_type": "code",
   "execution_count": 35,
   "id": "51653b4f",
   "metadata": {},
   "outputs": [
    {
     "data": {
      "image/png": "[encoded data removed]",
      "text/plain": [
       "<Figure size 1000x800 with 1 Axes>"
      ]
     },
     "metadata": {},
     "output_type": "display_data"
    }
   ],
   "source": [
    "import matplotlib.pyplot as plt\n",
    "from mpl_toolkits.mplot3d import Axes3D\n",
    "\n",
    "fig = plt.figure(figsize=(10, 8))\n",
    "ax = fig.add_subplot(111)\n",
    "\n",
    "x = client_map[:, 0]  \n",
    "y = client_map[:, 1]  \n",
    "\n",
    "plt.xlim(-0.7, 0.7)\n",
    "\n",
    "ax.scatter(x, y, alpha=0.6)\n",
    "ax.set_xlabel('u1')\n",
    "ax.set_ylabel('u2')\n",
    "# ax.set_zlabel('u3')\n",
    "plt.title('Карта клиентов в пространстве главных факторов')\n",
    "plt.grid(alpha=0.4)\n",
    "plt.show()"
   ]
  },
  {
   "cell_type": "markdown",
   "id": "be2f9733",
   "metadata": {},
   "source": [
    "Далее создаем 2D график распределения клиентов по первым двум главным факторам. После снижения размерности представить данные можно так:\n",
    "\n",
    "Исходная матрица $X$ проецируется в пространство главных компонент:\n",
    "\n",
    "$$\n",
    "Z_k = U_k \\Sigma_k\n",
    "$$\n",
    "\n",
    "где $Z_k$ содержит координаты клиентов в системе из $k$ главных факторов.\n",
    "\n",
    "Также:\n",
    "- $\\mathbf{u}_1, \\mathbf{u}_2$ — ортогональные направления максимальной дисперсии\n",
    "- Чем больше сингулярное число, тем важнее соответствующая компонента\n",
    "- Близкое расположение → схожие характеристики по исходным признакам\n",
    "- Удалённое положение → существенные различия в профилях клиентов\n",
    "\n",
    "Полученная PCA-карта отображает распределение клиентов банка в двумерном пространстве, где каждая ось отражает обобщённые свойства исходных данных."
   ]
  },
  {
   "cell_type": "markdown",
   "id": "c62aba0e",
   "metadata": {},
   "source": [
    "## Снижение размерности. Метод MDS (Multidimensional Scaling, многомерное шкалирование)"
   ]
  },
  {
   "cell_type": "markdown",
   "id": "2e52a295",
   "metadata": {},
   "source": [
    "### 9. Вычислите расстояние между клиентами любым понравившемся вам способом (расстояние Чебышева, Манхэттенских кварталов, Минковского). Проверьте, можно ли клиентов банка поместить в евклидово пространство размерности 2 с сохранением всех расстояний между клиентами."
   ]
  },
  {
   "cell_type": "code",
   "execution_count": 36,
   "id": "d6284e5a",
   "metadata": {},
   "outputs": [
    {
     "name": "stdout",
     "output_type": "stream",
     "text": [
      "[[0.         0.26381001 0.09821384 ... 0.21810877 0.11644197 0.34937262]\n",
      " [0.26381001 0.         0.27314056 ... 0.3357168  0.29756428 0.20263293]\n",
      " [0.09821384 0.27314056 0.         ... 0.22241813 0.03103905 0.32837695]\n",
      " ...\n",
      " [0.21810877 0.3357168  0.22241813 ... 0.         0.23297479 0.4510816 ]\n",
      " [0.11644197 0.29756428 0.03103905 ... 0.23297479 0.         0.33911418]\n",
      " [0.34937262 0.20263293 0.32837695 ... 0.4510816  0.33911418 0.        ]]\n"
     ]
    }
   ],
   "source": [
    "from scipy.spatial import distance\n",
    "import numpy as np\n",
    "\n",
    "matr_for_task_9_default = new_matr\n",
    "\n",
    "D = distance.squareform(distance.pdist(matr_for_task_9_default, metric='euclidean'))\n",
    "\n",
    "print(D)"
   ]
  },
  {
   "cell_type": "markdown",
   "id": "0f69edfd",
   "metadata": {},
   "source": [
    "Здесь берётся нормализованная матрица данных (наша $Z$ после центрирования и нормировки).\n",
    "Эта матрица — основа для построения матрицы расстояний между клиентами.\n",
    "\n",
    "distance.pdist(...) — вычисляет попарные расстояния между всеми строками (объектами) в матрице (евклидова метрика):\n",
    "\n",
    "$$\n",
    "d_{ij} = \\sqrt{\\sum_{k} (x_{ik} - x_{jk})^2}\n",
    "$$\n"
   ]
  },
  {
   "cell_type": "code",
   "execution_count": 37,
   "id": "3e968ab8",
   "metadata": {},
   "outputs": [
    {
     "name": "stdout",
     "output_type": "stream",
     "text": [
      "Stress: 3.038610971048728\n"
     ]
    },
    {
     "name": "stderr",
     "output_type": "stream",
     "text": [
      "c:\\Python\\Lib\\site-packages\\sklearn\\manifold\\_mds.py:677: FutureWarning: The default value of `n_init` will change from 4 to 1 in 1.9.\n",
      "  warnings.warn(\n"
     ]
    }
   ],
   "source": [
    "from sklearn.manifold import MDS\n",
    "\n",
    "mds = MDS(n_components=2, dissimilarity='precomputed', random_state=42)\n",
    "coords = mds.fit_transform(D)\n",
    "\n",
    "print(\"Stress:\", mds.stress_)"
   ]
  },
  {
   "cell_type": "markdown",
   "id": "684856d6",
   "metadata": {},
   "source": [
    "Далее создали модель MDS:\n",
    "\n",
    "- n_components=2 — мы хотим разместить объекты в 2D-пространстве (для визуализации);\n",
    "- dissimilarity='precomputed' — говорим модели, что мы уже вычислили матрицу расстояний $D$;\n",
    "- random_state=42 — фиксируем начальное состояние генератора случайных чисел для воспроизводимости результатов.\n",
    "\n",
    "Метод fit_transform(D) выполняет собственно многомерное шкалирование, то есть находит такие двумерные координаты объектов, при которых расстояния между ними в новом пространстве максимально близки к исходным (из матрицы $D$).\n",
    "\n",
    "В результате:\n",
    "\n",
    "- coords — это матрица $n \\times 2$;\n",
    "- каждая строка — новый объект (клиент);\n",
    "- каждый столбец — координата в новом двумерном пространстве (аналог \"карты клиентов\", но построенной по методу MDS).\n",
    "\n",
    "mds.stress — это значение стресса (stress) — мера того, насколько хорошо двумерное представление сохраняет исходные расстояния между точками.\n",
    "\n",
    "$$\n",
    "\\text{Stress} = \\sqrt{\\frac{\\sum_{i<j} (d_{ij} - \\delta_{ij})^2}{\\sum_{i<j} \\delta_{ij}^2}}\n",
    "$$\n",
    "\n",
    "где:\n",
    "\n",
    "- $d_{ij}$ — расстояния в новом 2D-пространстве,\n",
    "- $\\delta_{ij}$ — исходные расстояния (из $D$).\n",
    "\n",
    "Чем меньше stress, тем лучше аппроксимация:\n",
    "\n",
    "- stress < 0.05 — отличное сохранение расстояний;\n",
    "- 0.05–0.1 — хорошее;\n",
    "- 0.1–0.2 — среднее;\n",
    "- > 0.2 — слабое соответствие."
   ]
  },
  {
   "cell_type": "markdown",
   "id": "ddcfa182",
   "metadata": {},
   "source": [
    "### 10. Используйте любой из алгоритмов MDS для размещения объектов в евклидовом пространстве размерности. Оцените погрешность такого размещения. Постройте карту клиентов. Сравните с картой клиентов из п.8 и сделайте выводы. "
   ]
  },
  {
   "cell_type": "code",
   "execution_count": 38,
   "id": "5be7b4be",
   "metadata": {},
   "outputs": [
    {
     "data": {
      "image/png": "[encoded data removed]",
      "text/plain": [
       "<Figure size 1000x800 with 1 Axes>"
      ]
     },
     "metadata": {},
     "output_type": "display_data"
    }
   ],
   "source": [
    "import matplotlib.pyplot as plt\n",
    "\n",
    "plt.figure(figsize=(10, 8))\n",
    "plt.scatter(coords[:, 0], coords[:, 1], s=30)\n",
    "\n",
    "plt.title(\"MDS-визуализация клиентов банка\")\n",
    "plt.xlabel(\"Компонента 1\")\n",
    "plt.ylabel(\"Компонента 2\")\n",
    "plt.grid(True)\n",
    "plt.show()"
   ]
  },
  {
   "cell_type": "markdown",
   "id": "166c4a14",
   "metadata": {},
   "source": [
    "Получили MDS-карту клиентов банка, где каждая точка отражает одного клиента в пространстве, построенном на основе сохранения расстояний между клиентами в исходных данных.\n",
    "\n",
    "В отличие от PCA (где координаты определяются через линейные комбинации исходных признаков),\n",
    "MDS стремится сохранить реальные геометрические расстояния между объектами.\n",
    "\n",
    "Если две точки на карте находятся близко друг к другу, значит их профили по признакам (возраст, доход, размер кредита и т.д.) похожи.\n",
    "\n",
    "Если они удалены, клиенты сильно различаются по своим характеристикам.\n",
    "\n",
    "Таким образом, карта MDS отражает взаимосвязь клиентов и возможные кластеры (группы со схожими социально-экономическими признаками)."
   ]
  }
 ],
 "metadata": {
  "kernelspec": {
   "display_name": "Python 3",
   "language": "python",
   "name": "python3"
  },
  "language_info": {
   "codemirror_mode": {
    "name": "ipython",
    "version": 3
   },
   "file_extension": ".py",
   "mimetype": "text/x-python",
   "name": "python",
   "nbconvert_exporter": "python",
   "pygments_lexer": "ipython3",
   "version": "3.13.8"
  }
 },
 "nbformat": 4,
 "nbformat_minor": 5
}
